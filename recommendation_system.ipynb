{
  "cells": [
    {
      "cell_type": "code",
      "execution_count": null,
      "metadata": {
        "colab": {
          "base_uri": "https://localhost:8080/"
        },
        "id": "jK3GEjxRpPeh",
        "outputId": "5a6fb58f-1c0a-40c3-8255-2d48f2a0c2c3"
      },
      "outputs": [
        {
          "output_type": "stream",
          "name": "stdout",
          "text": [
            "Mounted at /content/drive\n"
          ]
        }
      ],
      "source": [
        "from google.colab import drive\n",
        "drive.mount('/content/drive')"
      ]
    },
    {
      "cell_type": "markdown",
      "metadata": {
        "id": "tRG0X0fYp7PJ"
      },
      "source": [
        "# LIB"
      ]
    },
    {
      "cell_type": "code",
      "execution_count": null,
      "metadata": {
        "colab": {
          "base_uri": "https://localhost:8080/"
        },
        "id": "7oGnGRBAvMKF",
        "outputId": "43ea9d13-9061-4c66-89d8-ca235c2f2afa"
      },
      "outputs": [
        {
          "output_type": "stream",
          "name": "stdout",
          "text": [
            "Looking in indexes: https://pypi.org/simple, https://us-python.pkg.dev/colab-wheels/public/simple/\n",
            "Requirement already satisfied: numpy in /usr/local/lib/python3.7/dist-packages (1.21.6)\n",
            "Looking in indexes: https://pypi.org/simple, https://us-python.pkg.dev/colab-wheels/public/simple/\n",
            "Collecting scikit-surprise\n",
            "  Downloading scikit-surprise-1.1.1.tar.gz (11.8 MB)\n",
            "\u001b[K     |████████████████████████████████| 11.8 MB 4.7 MB/s \n",
            "\u001b[?25hRequirement already satisfied: joblib>=0.11 in /usr/local/lib/python3.7/dist-packages (from scikit-surprise) (1.1.0)\n",
            "Requirement already satisfied: numpy>=1.11.2 in /usr/local/lib/python3.7/dist-packages (from scikit-surprise) (1.21.6)\n",
            "Requirement already satisfied: scipy>=1.0.0 in /usr/local/lib/python3.7/dist-packages (from scikit-surprise) (1.4.1)\n",
            "Requirement already satisfied: six>=1.10.0 in /usr/local/lib/python3.7/dist-packages (from scikit-surprise) (1.15.0)\n",
            "Building wheels for collected packages: scikit-surprise\n",
            "  Building wheel for scikit-surprise (setup.py) ... \u001b[?25l\u001b[?25hdone\n",
            "  Created wheel for scikit-surprise: filename=scikit_surprise-1.1.1-cp37-cp37m-linux_x86_64.whl size=1633709 sha256=55355638fe2f75de5dccc91cfb3a86dc6baa0dde401f8add063a20cb9b2c2a85\n",
            "  Stored in directory: /root/.cache/pip/wheels/76/44/74/b498c42be47b2406bd27994e16c5188e337c657025ab400c1c\n",
            "Successfully built scikit-surprise\n",
            "Installing collected packages: scikit-surprise\n",
            "Successfully installed scikit-surprise-1.1.1\n"
          ]
        }
      ],
      "source": [
        "!pip3 install numpy\n",
        "!pip3 install scikit-surprise"
      ]
    },
    {
      "cell_type": "code",
      "execution_count": null,
      "metadata": {
        "id": "xJRu493Up8Uk"
      },
      "outputs": [],
      "source": [
        "import pandas as pd\n",
        "import numpy as np \n",
        "from surprise import Reader\n",
        "from surprise import Dataset\n",
        "from surprise.model_selection import cross_validate\n",
        "from surprise import NormalPredictor\n",
        "from surprise import KNNBasic\n",
        "from surprise import KNNWithMeans\n",
        "from surprise import KNNWithZScore\n",
        "from surprise import KNNBaseline\n",
        "from surprise import SVD\n",
        "from surprise import BaselineOnly\n",
        "from surprise import SVDpp\n",
        "from surprise import NMF\n",
        "from surprise import SlopeOne\n",
        "from surprise import CoClustering\n",
        "from surprise.accuracy import rmse\n",
        "from surprise import accuracy\n",
        "from surprise.model_selection import train_test_split\n",
        "from surprise.model_selection import GridSearchCV\n",
        "from sklearn.metrics.pairwise import cosine_similarity\n",
        "from scipy import sparse \n",
        "from surprise import Dataset\n",
        "from surprise.model_selection import KFold\n",
        "from past.builtins import xrange\n",
        "from sklearn.metrics import mean_squared_error"
      ]
    },
    {
      "cell_type": "markdown",
      "metadata": {
        "id": "bS1WUdeopnkH"
      },
      "source": [
        "# READ DATA"
      ]
    },
    {
      "cell_type": "code",
      "execution_count": null,
      "metadata": {
        "id": "hVRN3sotmnrl"
      },
      "outputs": [],
      "source": [
        "PATH_TRAIN = '/content/drive/MyDrive/ML/Recommendation_System/Data/ML-1M-SPLIT/TIMESTAMP/train.csv'\n",
        "PATH_TEST = '/content/drive/MyDrive/ML/Recommendation_System/Data/ML-1M-SPLIT/TIMESTAMP/test.csv'\n",
        "PATH_VAL = '/content/drive/MyDrive/ML/Recommendation_System/Data/ML-1M-SPLIT/TIMESTAMP/validation.csv'\n"
      ]
    },
    {
      "cell_type": "code",
      "execution_count": null,
      "metadata": {
        "id": "PLytxHqMpQDC"
      },
      "outputs": [],
      "source": [
        "train = pd.read_csv(PATH_TRAIN)\n",
        "test = pd.read_csv(PATH_TEST)\n",
        "val = pd.read_csv(PATH_VAL)"
      ]
    },
    {
      "cell_type": "code",
      "execution_count": null,
      "metadata": {
        "id": "auTrxa7AwOmQ"
      },
      "outputs": [],
      "source": [
        "train = train[['UserID', 'MovieID', 'Rating']]\n",
        "test = test[['UserID', 'MovieID', 'Rating']]\n",
        "val = val[['UserID', 'MovieID', 'Rating']]"
      ]
    },
    {
      "cell_type": "markdown",
      "metadata": {
        "id": "fRwOkoHBqgNV"
      },
      "source": [
        "# RATING PREDICTION"
      ]
    },
    {
      "cell_type": "markdown",
      "metadata": {
        "id": "dneSg6POsCMD"
      },
      "source": [
        "## User - user "
      ]
    },
    {
      "cell_type": "code",
      "execution_count": null,
      "metadata": {
        "id": "fRyNLN69sIIu"
      },
      "outputs": [],
      "source": [
        "class CF(object):\n",
        "   \n",
        "    def __init__(self, Y_data, k, dist_func = cosine_similarity, uuCF = 1):\n",
        "        self.uuCF = uuCF # user-user (1) or item-item (0) CF\n",
        "        self.Y_data = Y_data if uuCF else Y_data[:, [1, 0, 2]]\n",
        "        self.k = k # number of neighbor points\n",
        "        self.dist_func = dist_func\n",
        "        self.Ybar_data = None\n",
        "        # number of users and items. Remember to add 1 since id starts from 0\n",
        "        self.n_users = int(np.max(self.Y_data[:, 0])) + 1 \n",
        "        self.n_items = int(np.max(self.Y_data[:, 1])) + 1\n",
        "    \n",
        "    def normalize_Y(self):\n",
        "        users = self.Y_data[:, 0] # all users - first col of the Y_data\n",
        "        self.Ybar_data = self.Y_data.copy()\n",
        "        self.mu = np.zeros((self.n_users,))\n",
        "        for n in range(self.n_users):\n",
        "            # row indices of rating done by user n\n",
        "            # since indices need to be integers, we need to convert\n",
        "            ids = np.where(users == n)[0].astype(np.int32)\n",
        "            # indices of all ratings associated with user n\n",
        "            item_ids = self.Y_data[ids, 1] \n",
        "            # and the corresponding ratings \n",
        "            ratings = self.Y_data[ids, 2]\n",
        "            # take mean\n",
        "            m = np.mean(ratings) \n",
        "            if np.isnan(m):\n",
        "                m = 0 # to avoid empty array and nan value\n",
        "            # normalize\n",
        "            self.Ybar_data[ids, 2] = ratings - self.mu[n]\n",
        "\n",
        "        ################################################\n",
        "        # form the rating matrix as a sparse matrix. Sparsity is important \n",
        "        # for both memory and computing efficiency. For example, if #user = 1M, \n",
        "        # #item = 100k, then shape of the rating matrix would be (100k, 1M), \n",
        "        # you may not have enough memory to store this. Then, instead, we store \n",
        "        # nonzeros only, and, of course, their locations.\n",
        "        self.Ybar = sparse.coo_matrix((self.Ybar_data[:, 2],\n",
        "            (self.Ybar_data[:, 1], self.Ybar_data[:, 0])), (self.n_items, self.n_users))\n",
        "        self.Ybar = self.Ybar.tocsr()\n",
        "\n",
        "    def similarity(self):\n",
        "        self.S = self.dist_func(self.Ybar.T, self.Ybar.T)\n",
        "        \n",
        "     \n",
        "    def refresh(self):\n",
        "   \n",
        "        self.normalize_Y()\n",
        "        self.similarity() \n",
        "\n",
        "    def fit(self):\n",
        "        self.refresh()\n",
        "        \n",
        "             \n",
        "    \n",
        "    def __pred(self, u, i): #normalized = 1):\n",
        "       \n",
        "        # Step 1: find all users who rated i\n",
        "        ids = np.where(self.Y_data[:, 1] == i)[0].astype(np.int32)\n",
        "        # Step 2: \n",
        "        users_rated_i = (self.Y_data[ids, 0]).astype(np.int32)\n",
        "        # Step 3: find similarity btw the current user and others \n",
        "        # who already rated i\n",
        "        sim = self.S[u, users_rated_i]\n",
        "        # Step 4: find the k most similarity users\n",
        "        a = np.argsort(sim)[-self.k:] \n",
        "        # and the corresponding similarity levels\n",
        "        nearest_s = sim[a]\n",
        "        # How did each of 'near' users rated item i\n",
        "        r = self.Ybar[i, users_rated_i[a]]\n",
        "#         if normalized:\n",
        "#             # add a small number, for instance, 1e-8, to avoid dividing by 0\n",
        "#             return (r*nearest_s)[0]/(np.abs(nearest_s).sum() + 1e-8)\n",
        "\n",
        "        return (r*nearest_s)[0]/(np.abs(nearest_s).sum() + 1e-8) + self.mu[u]\n",
        "    \n",
        "    def pred(self, u, i): #normalized = 1):\n",
        "        if self.uuCF: return self.__pred(u, i)# normalize)\n",
        "        return self.__pred(i, u) #normalize)\n",
        "    \n",
        "    def recommend(self, u, normalized = 1):\n",
        "        ids = np.where(self.Y_data[:, 0] == u)[0]\n",
        "        items_rated_by_u = self.Y_data[ids, 1].tolist()              \n",
        "        recommended_items = []\n",
        "        for i in range(self.n_items):\n",
        "            if i not in items_rated_by_u:\n",
        "                rating = self.__pred(u, i)\n",
        "                if rating > 0: \n",
        "                    recommended_items.append(i)\n",
        "        \n",
        "        return recommended_items \n",
        "    \n",
        "    \n",
        "    def print_recommendation(self):     \n",
        "        print ('Recommendation: ')\n",
        "        for u in range(self.n_users):\n",
        "            recommended_items = self.recommend(u)\n",
        "            if self.uuCF:\n",
        "                print (' Recommend item(s):', recommended_items, 'to user', u)\n",
        "            else: \n",
        "                print (' Recommend item', u, 'to user(s) : ', recommended_items)\n"
      ]
    },
    {
      "cell_type": "code",
      "execution_count": null,
      "metadata": {
        "colab": {
          "base_uri": "https://localhost:8080/"
        },
        "id": "7HRZXY0jzgvy",
        "outputId": "24e4c1ce-9fbc-4408-debe-78f68d14ad80"
      },
      "outputs": [
        {
          "name": "stderr",
          "output_type": "stream",
          "text": [
            "/usr/local/lib/python3.7/dist-packages/numpy/core/fromnumeric.py:3441: RuntimeWarning: Mean of empty slice.\n",
            "  out=out, **kwargs)\n",
            "/usr/local/lib/python3.7/dist-packages/numpy/core/_methods.py:189: RuntimeWarning: invalid value encountered in double_scalars\n",
            "  ret = ret.dtype.type(ret / rcount)\n"
          ]
        },
        {
          "name": "stdout",
          "output_type": "stream",
          "text": [
            "Validation User-user CF, RMSE = 0.977168729138703\n",
            "Training User-user CF, RMSE = 0.9545790974088926\n"
          ]
        }
      ],
      "source": [
        "rs = CF(train.values, k = 1000, dist_func = cosine_similarity, uuCF = 1)\n",
        "rs.fit()\n",
        "\n",
        "n_tests = val.values.shape[0]\n",
        "SE = 0 # squared error\n",
        "for n in range(n_tests):\n",
        "    pred = rs.pred(val.values[n, 0], val.values[n, 1])\n",
        "    SE += (pred - val.values[n, 2])**2 \n",
        "\n",
        "RMSE = np.sqrt(SE/n_tests)\n",
        "print('Validation User-user CF, RMSE =', RMSE)\n",
        "\n",
        "n_tests = train.values.shape[0]\n",
        "SE = 0 # squared error\n",
        "for n in range(n_tests):\n",
        "    pred = rs.pred(train.values[n, 0], train.values[n, 1])\n",
        "    SE += (pred - train.values[n, 2])**2 \n",
        "\n",
        "RMSE = np.sqrt(SE/n_tests)\n",
        "print('Training User-user CF, RMSE =', RMSE)"
      ]
    },
    {
      "cell_type": "markdown",
      "metadata": {
        "id": "sogZSBknsFT8"
      },
      "source": [
        "## Items- items"
      ]
    },
    {
      "cell_type": "code",
      "execution_count": null,
      "metadata": {
        "id": "N9lcci9YYEss"
      },
      "outputs": [],
      "source": [
        "# rs = CF(train.values, k = 1000, dist_func = cosine_similarity, uuCF = 1)\n",
        "# rs.fit()\n",
        "\n",
        "# n_tests = val.values.shape[0]\n",
        "# SE = 0 # squared error\n",
        "# for n in range(n_tests):\n",
        "#     pred = rs.pred(val.values[n, 0], val.values[n, 1])\n",
        "#     SE += (pred - val.values[n, 2])**2 \n",
        "\n",
        "# RMSE = np.sqrt(SE/n_tests)\n",
        "# print('Validation User-user CF, RMSE =', RMSE)\n",
        "\n",
        "# n_tests = train.values.shape[0]\n",
        "# SE = 0 # squared error\n",
        "# for n in range(n_tests):\n",
        "#     pred = rs.pred(train.values[n, 0], train.values[n, 1])\n",
        "#     SE += (pred - train.values[n, 2])**2 \n",
        "\n",
        "# RMSE = np.sqrt(SE/n_tests)\n",
        "# print('Training User-user CF, RMSE =', RMSE)"
      ]
    },
    {
      "cell_type": "code",
      "execution_count": null,
      "metadata": {
        "colab": {
          "base_uri": "https://localhost:8080/"
        },
        "id": "OMcr5XYtsIvD",
        "outputId": "179045e3-8925-4483-d2ba-20643748de94"
      },
      "outputs": [
        {
          "name": "stderr",
          "output_type": "stream",
          "text": [
            "/usr/local/lib/python3.7/dist-packages/numpy/core/fromnumeric.py:3441: RuntimeWarning: Mean of empty slice.\n",
            "  out=out, **kwargs)\n",
            "/usr/local/lib/python3.7/dist-packages/numpy/core/_methods.py:189: RuntimeWarning: invalid value encountered in double_scalars\n",
            "  ret = ret.dtype.type(ret / rcount)\n"
          ]
        },
        {
          "name": "stdout",
          "output_type": "stream",
          "text": [
            "Validation Items-Items CF, RMSE = 1.0511835530826206\n",
            "Training Items-Items CF, RMSE = 0.9724570030703779\n"
          ]
        }
      ],
      "source": [
        "rs = CF(train.values, k = 1000, uuCF = 0)\n",
        "rs.fit()\n",
        "\n",
        "n_tests = val.values.shape[0]\n",
        "SE = 0 # squared error\n",
        "for n in range(n_tests):\n",
        "    pred = rs.pred(val.values[n, 0], val.values[n, 1])\n",
        "    SE += (pred - val.values[n, 2])**2 \n",
        "\n",
        "RMSE = np.sqrt(SE/n_tests)\n",
        "print('Validation Items-Items CF, RMSE =', RMSE)\n",
        "\n",
        "n_tests = train.values.shape[0]\n",
        "SE = 0 # squared error\n",
        "for n in range(n_tests):\n",
        "    pred = rs.pred(train.values[n, 0], train.values[n, 1])\n",
        "    SE += (pred - train.values[n, 2])**2 \n",
        "\n",
        "RMSE = np.sqrt(SE/n_tests)\n",
        "print('Training Items-Items CF, RMSE =', RMSE)"
      ]
    },
    {
      "cell_type": "markdown",
      "metadata": {
        "id": "u9lZzMFAqvDQ"
      },
      "source": [
        "## SVD"
      ]
    },
    {
      "cell_type": "code",
      "execution_count": null,
      "metadata": {
        "id": "k0e6zMZ6FRRJ"
      },
      "outputs": [],
      "source": [
        "reader = Reader(rating_scale=(1, 5))\n",
        "data = Dataset.load_from_df(train[['UserID', 'MovieID', 'Rating']], reader)"
      ]
    },
    {
      "cell_type": "code",
      "execution_count": null,
      "metadata": {
        "colab": {
          "base_uri": "https://localhost:8080/"
        },
        "id": "8w5SE0HNFhD-",
        "outputId": "93d5ee4d-76cb-4bf4-a0d7-e0f4015a63d9"
      },
      "outputs": [
        {
          "name": "stdout",
          "output_type": "stream",
          "text": [
            "RMSE: 0.9041\n",
            "RMSE: 0.9032\n"
          ]
        }
      ],
      "source": [
        "#FINDING ESTIMATOR OF SVD MODEL USING TRAIN SET\n",
        "def estimator_svd(n_split,inputs):\n",
        "    from surprise.model_selection import KFold\n",
        "    from surprise import accuracy\n",
        "    acc=[]\n",
        "    kf = KFold(n_splits=n_split)\n",
        "    algo= SVD()\n",
        "    models=[]\n",
        "    for trainset, testset in kf.split(inputs):\n",
        "        model=algo.fit(trainset)\n",
        "        models.append(model)\n",
        "        predictions = algo.test(testset)\n",
        "        acc.append(accuracy.rmse(predictions, verbose=True))\n",
        "    return models,acc\n",
        "\n",
        "modells,accuracy=estimator_svd(2,data)"
      ]
    },
    {
      "cell_type": "code",
      "execution_count": null,
      "metadata": {
        "id": "rtzyX31tFkr7"
      },
      "outputs": [],
      "source": [
        "def find_best_estimator_index(arr):\n",
        "  return np.argmin(arr)"
      ]
    },
    {
      "cell_type": "code",
      "execution_count": null,
      "metadata": {
        "id": "JUh7FLuhFoIe"
      },
      "outputs": [],
      "source": [
        "best_estimator__SVD_index=find_best_estimator_index(accuracy)"
      ]
    },
    {
      "cell_type": "code",
      "execution_count": null,
      "metadata": {
        "colab": {
          "base_uri": "https://localhost:8080/"
        },
        "id": "y8tL7wPkFq1c",
        "outputId": "10ac0f5c-ab03-412d-b4a5-a66786c79e3c"
      },
      "outputs": [
        {
          "name": "stdout",
          "output_type": "stream",
          "text": [
            "RMSE: 0.9329\n"
          ]
        },
        {
          "data": {
            "text/plain": [
              "0.9328543861731275"
            ]
          },
          "execution_count": 15,
          "metadata": {},
          "output_type": "execute_result"
        }
      ],
      "source": [
        "def create_data_for_val_method(df):\n",
        "    from surprise import accuracy\n",
        "    reader1 = Reader(rating_scale=(1, 5))\n",
        "    data1 = Dataset.load_from_df(df[['UserID', 'MovieID', 'Rating']], reader1)\n",
        "    TrainSet_Val= data1.build_full_trainset()\n",
        "    TestSet_Val=TrainSet_Val.build_testset()\n",
        "    return TestSet_Val\n",
        "\n",
        "def predict(model,test_set):\n",
        "    from surprise import accuracy\n",
        "    pred=model.test(test_set)\n",
        "    return accuracy.rmse(pred,verbose=True)\n",
        "\n",
        "Test_set=create_data_for_val_method(val)\n",
        "predict(modells[best_estimator__SVD_index],Test_set)"
      ]
    },
    {
      "cell_type": "markdown",
      "metadata": {
        "id": "cgW45zhzGJX6"
      },
      "source": [
        "## SVDpp"
      ]
    },
    {
      "cell_type": "code",
      "execution_count": null,
      "metadata": {
        "colab": {
          "base_uri": "https://localhost:8080/"
        },
        "id": "K1RCYDOlF-WT",
        "outputId": "693e34a8-6cb9-48ae-a5e6-dc77dcf55102"
      },
      "outputs": [
        {
          "name": "stdout",
          "output_type": "stream",
          "text": [
            "RMSE: 0.8864\n",
            "RMSE: 0.8839\n"
          ]
        }
      ],
      "source": [
        "reader = Reader(rating_scale=(1, 5))\n",
        "data = Dataset.load_from_df(train[['UserID', 'MovieID', 'Rating']], reader)\n",
        "\n",
        "#FINDING ESTIMATOR OF SVDppSVDpp MODEL USING TRAIN SET\n",
        "def estimator_svd(n_split,inputs):\n",
        "    from surprise.model_selection import KFold\n",
        "    from surprise import accuracy\n",
        "    acc=[]\n",
        "    kf = KFold(n_splits=n_split)\n",
        "    algo= SVDpp()\n",
        "    models=[]\n",
        "    for trainset, testset in kf.split(inputs):\n",
        "        model=algo.fit(trainset)\n",
        "        models.append(model)\n",
        "        predictions = algo.test(testset)\n",
        "        acc.append(accuracy.rmse(predictions, verbose=True))\n",
        "    return models,acc\n",
        "\n",
        "modells,accuracy=estimator_svd(2,data)"
      ]
    },
    {
      "cell_type": "code",
      "execution_count": null,
      "metadata": {
        "id": "KXz4yE6zGzPW"
      },
      "outputs": [],
      "source": [
        "def find_best_estimator_index(arr):\n",
        "  return np.argmin(arr)\n",
        "\n",
        "best_estimator__SVDpp_index=find_best_estimator_index(accuracy)"
      ]
    },
    {
      "cell_type": "code",
      "execution_count": null,
      "metadata": {
        "colab": {
          "base_uri": "https://localhost:8080/"
        },
        "id": "ugOeIh0iG6iW",
        "outputId": "d1d584a1-1a16-4c70-a25b-920809c020dc"
      },
      "outputs": [
        {
          "name": "stdout",
          "output_type": "stream",
          "text": [
            "RMSE: 0.9193\n"
          ]
        },
        {
          "data": {
            "text/plain": [
              "0.9192761575686926"
            ]
          },
          "execution_count": 12,
          "metadata": {},
          "output_type": "execute_result"
        }
      ],
      "source": [
        "def create_data_for_val_method(df):\n",
        "    from surprise import accuracy\n",
        "    reader1 = Reader(rating_scale=(1, 5))\n",
        "    data1 = Dataset.load_from_df(df[['UserID', 'MovieID', 'Rating']], reader1)\n",
        "    TrainSet_Val= data1.build_full_trainset()\n",
        "    TestSet_Val=TrainSet_Val.build_testset()\n",
        "    return TestSet_Val\n",
        "\n",
        "def predict(model,test_set):\n",
        "    from surprise import accuracy\n",
        "    pred=model.test(test_set)\n",
        "    return accuracy.rmse(pred,verbose=True)\n",
        "\n",
        "Test_set=create_data_for_val_method(val)\n",
        "predict(modells[best_estimator__SVDpp_index],Test_set)"
      ]
    },
    {
      "cell_type": "markdown",
      "metadata": {
        "id": "sVxfQS-9I18B"
      },
      "source": [
        "# Predict best model in test set"
      ]
    },
    {
      "cell_type": "code",
      "execution_count": null,
      "metadata": {
        "colab": {
          "base_uri": "https://localhost:8080/"
        },
        "id": "RoL5nNt3I6b0",
        "outputId": "5c1f337a-0500-4485-dc04-a66b925d1548"
      },
      "outputs": [
        {
          "name": "stdout",
          "output_type": "stream",
          "text": [
            "RMSE: 0.9453\n"
          ]
        },
        {
          "data": {
            "text/plain": [
              "0.9452800209883169"
            ]
          },
          "execution_count": 13,
          "metadata": {},
          "output_type": "execute_result"
        }
      ],
      "source": [
        "def create_data_from_testset(df):\n",
        "    from surprise import accuracy\n",
        "    reader1 = Reader(rating_scale=(1, 5))\n",
        "    data1 = Dataset.load_from_df(df[['UserID', 'MovieID', 'Rating']], reader1)\n",
        "    TrainSet_Val= data1.build_full_trainset()\n",
        "    TestSet_Val=TrainSet_Val.build_testset()\n",
        "    return TestSet_Val\n",
        "\n",
        "def predict_with_val_data(model,test_set):\n",
        "    from surprise import accuracy\n",
        "    pred=model.test(test_set)\n",
        "    return accuracy.rmse(pred,verbose=True)\n",
        "\n",
        "Test_set=create_data_from_testset(test)\n",
        "predict_with_val_data(modells[best_estimator__SVDpp_index],Test_set)"
      ]
    },
    {
      "cell_type": "markdown",
      "metadata": {
        "id": "nUP_WjPJJfKj"
      },
      "source": [
        "# SAVE AND LOAD MODEL"
      ]
    },
    {
      "cell_type": "code",
      "execution_count": null,
      "metadata": {
        "colab": {
          "base_uri": "https://localhost:8080/"
        },
        "id": "XLpwkr2VJdP2",
        "outputId": "957bfd3e-3db7-4683-af31-15547a1418e5"
      },
      "outputs": [
        {
          "name": "stdout",
          "output_type": "stream",
          "text": [
            ">> Starting dump\n",
            ">> Dump done\n",
            "./model.pickle\n"
          ]
        }
      ],
      "source": [
        "## SAVING TRAINED MODEL\n",
        "from surprise import dump\n",
        "import os\n",
        "train = train.rename(columns = {'UserID': 'userID', 'MovieID': 'item', 'Rating':'rating'})\n",
        "data = Dataset.load_from_df(train[['userID', 'item', 'rating']], reader)\n",
        "trainset = data.build_full_trainset()\n",
        "\n",
        "algo = SVDpp(n_epochs = 20, lr_all =0.005, reg_all = 0.02)\n",
        "algo.fit(trainset)\n",
        "model_filename =  \"./model.pickle\"\n",
        "print (\">> Starting dump\")\n",
        "# Dump algorithm and reload it.\n",
        "file_name = os.path.expanduser(model_filename)\n",
        "dump.dump(file_name, algo=algo)\n",
        "print (\">> Dump done\")\n",
        "print(model_filename)"
      ]
    },
    {
      "cell_type": "code",
      "execution_count": null,
      "metadata": {
        "colab": {
          "base_uri": "https://localhost:8080/"
        },
        "id": "FpftlHiwJnI4",
        "outputId": "884bd570-c324-49f4-a047-41c3036c3b12"
      },
      "outputs": [
        {
          "output_type": "stream",
          "name": "stdout",
          "text": [
            "{'user': 36, 'item': 1266, 'rating': 4.457090706398964}\n"
          ]
        }
      ],
      "source": [
        "## LOAD SAVED MODEL\n",
        "def load_model(model_filename):\n",
        "    # print (\">> Loading dump\")\n",
        "    from surprise import dump\n",
        "    import os\n",
        "    file_name = os.path.expanduser(model_filename)\n",
        "    _, loaded_model = dump.load(file_name)\n",
        "    # print (\">> Loaded dump\")\n",
        "    return loaded_model\n",
        "\n",
        "# predicitng\n",
        "from pprint import pprint as pp\n",
        "model_filename = \"/content/drive/MyDrive/ML/Recommendation_System/MinhAnh/model.pickle\"\n",
        "def itemRating(user, item):\n",
        "    uid = str(user)\n",
        "    iid = str(item) \n",
        "    loaded_model = load_model(model_filename)\n",
        "    prediction = loaded_model.predict(user, item, verbose=False)\n",
        "    rating = prediction.est\n",
        "    details = prediction.details\n",
        "    uid = prediction.uid\n",
        "    iid = prediction.iid\n",
        "    true = prediction.r_ui\n",
        "    ret = {\n",
        "        'user': user, \n",
        "        'item': item, \n",
        "        'rating': rating\n",
        "        }\n",
        "    # pp (ret)\n",
        "    # print ('\\n\\n')\n",
        "    return ret\n",
        "print(itemRating(user = 36, item = 1266))"
      ]
    },
    {
      "cell_type": "markdown",
      "metadata": {
        "id": "PBFFdSD0JroM"
      },
      "source": [
        "# PREDICT FULL DATASET"
      ]
    },
    {
      "cell_type": "code",
      "execution_count": null,
      "metadata": {
        "colab": {
          "base_uri": "https://localhost:8080/"
        },
        "id": "ItAileR0Jv58",
        "outputId": "8e2dd14d-492f-4954-ec2d-7d26fdc34c5a"
      },
      "outputs": [
        {
          "output_type": "stream",
          "name": "stdout",
          "text": [
            "43 791\n",
            "44 795\n",
            "45 839\n",
            "46 840\n",
            "47 872\n",
            "48 911\n",
            "49 937\n",
            "50 953\n"
          ]
        }
      ],
      "source": [
        "import os \n",
        "import json\n",
        "def cal_metrics_user(ur,test):\n",
        "    items = list(test['MovieID'].unique())\n",
        "    est_ratings = []\n",
        "    real_ratings = []\n",
        "    lst_items = []\n",
        "    for it in items:\n",
        "        a = itemRating(user = ur, item = it)\n",
        "        est_ratings.append(a['rating'])\n",
        "        lst_items.append(it)\n",
        "    dat = pd.DataFrame({'Estimate': est_ratings, 'Items': lst_items}).sort_values(by = ['Estimate'], ascending= False)\n",
        "    real = list(test[test['UserID'] == ur]['MovieID'])\n",
        "    pred = list(dat[dat['Estimate'] >= 4.0]['Items'])\n",
        "    count= 0\n",
        "    for it in real:\n",
        "        if it not in pred:\n",
        "            count += 1\n",
        "    a = np.round(count / len(real),2) * 100\n",
        "    b = 100 - a\n",
        "    # print('phim da xem ben ngoai danh sach goi y ', np.round(count / len(real),2) * 100)\n",
        "    # print('phim da xem trong danh sach goi y     ', 100- np.round(count / len(real),2) * 100)  \n",
        "    return a, b   \n",
        "\n",
        "users = list(test['UserID'].unique())\n",
        "path = '/content/drive/MyDrive/ML/business_metrics.json'\n",
        "# data_temp= {}\n",
        "# for ur in users:\n",
        "#     data_temp[str(ur)] = [0, 0]\n",
        "# print('temp ', data_temp)\n",
        "# with open('/content/drive/MyDrive/ML/business_metrics.json', \"w\") as file: \n",
        "#     json.dump(data_temp, file)\n",
        "\n",
        "count_ids = 43\n",
        "for ur in users[43:51]: # 0-50\n",
        "    print(count_ids, ur)\n",
        "    with open(path, 'r') as openfile:\n",
        "        data_temp= json.load(openfile)\n",
        "\n",
        "    a, b = cal_metrics_user(ur, test)\n",
        "    data_temp[str(ur)] = [a,b]\n",
        "    \n",
        "    with open(path, \"w\") as file: \n",
        "        json.dump(data_temp, file)\n",
        "    count_ids +=1 "
      ]
    },
    {
      "cell_type": "code",
      "execution_count": null,
      "metadata": {
        "id": "u6WqtVaqT5N8",
        "colab": {
          "base_uri": "https://localhost:8080/"
        },
        "outputId": "5e66ed67-9108-4bb3-bd9b-42d093ec830a"
      },
      "outputs": [
        {
          "output_type": "stream",
          "name": "stdout",
          "text": [
            "{'36': [69.0, 31.0], '59': [99.0, 1.0], '65': [0.0, 100.0], '102': [85.0, 15.0], '131': [100.0, 0.0], '146': [61.0, 39.0], '157': [44.0, 56.0], '169': [100.0, 0.0], '184': [77.0, 23.0], '193': [74.0, 26.0], '195': [44.0, 56.0], '229': [84.0, 16.0], '231': [55.00000000000001, 44.99999999999999], '237': [67.0, 33.0], '239': [14.000000000000002, 86.0], '306': [14.000000000000002, 86.0], '319': [75.0, 25.0], '329': [100.0, 0.0], '343': [53.0, 47.0], '349': [95.0, 5.0], '355': [67.0, 33.0], '398': [95.0, 5.0], '403': [0.0, 100.0], '411': [86.0, 14.0], '419': [47.0, 53.0], '422': [93.0, 7.0], '424': [63.0, 37.0], '487': [100.0, 0.0], '496': [14.000000000000002, 86.0], '518': [30.0, 70.0], '528': [78.0, 22.0], '531': [100.0, 0.0], '549': [78.0, 22.0], '624': [81.0, 19.0], '648': [50.0, 50.0], '678': [100.0, 0.0], '696': [0.0, 100.0], '727': [80.0, 20.0], '736': [41.0, 59.0], '737': [72.0, 28.0], '743': [80.0, 20.0], '752': [86.0, 14.0], '753': [100.0, 0.0], '791': [100.0, 0.0], '795': [100.0, 0.0], '839': [45.0, 55.0], '840': [50.0, 50.0], '872': [100.0, 0.0], '911': [65.0, 35.0], '937': [56.00000000000001, 43.99999999999999], '953': [33.0, 67.0], '1010': [100.0, 0.0], '1015': [82.0, 18.0], '1019': [93.0, 7.0], '1051': [100.0, 0.0], '1063': [0.0, 100.0], '1088': [72.0, 28.0], '1101': [88.0, 12.0], '1113': [28.000000000000004, 72.0], '1120': [68.0, 32.0], '1121': [64.0, 36.0], '1125': [92.0, 8.0], '1141': [50.0, 50.0], '1142': [0.0, 100.0], '1164': [100.0, 0.0], '1165': [81.0, 19.0], '1182': [0.0, 100.0], '1186': [0.0, 100.0], '1194': [82.0, 18.0], '1202': [87.0, 13.0], '1203': [46.0, 54.0], '1243': [60.0, 40.0], '1246': [100.0, 0.0], '1252': [0.0, 100.0], '1274': [56.00000000000001, 43.99999999999999], '1301': [100.0, 0.0], '1303': [85.0, 15.0], '1306': [53.0, 47.0], '1317': [67.0, 33.0], '1329': [67.0, 33.0], '1348': [50.0, 50.0], '1352': [93.0, 7.0], '1389': [57.99999999999999, 42.00000000000001], '1390': [100.0, 0.0], '1395': [0.0, 100.0], '1415': [50.0, 50.0], '1599': [100.0, 0.0], '1605': [100.0, 0.0], '1645': [27.0, 73.0], '1647': [100.0, 0.0], '1733': [71.0, 29.0], '1739': [20.0, 80.0], '1748': [89.0, 11.0], '1755': [60.0, 40.0], '1776': [100.0, 0.0], '1780': [100.0, 0.0], '1794': [100.0, 0.0], '1812': [100.0, 0.0], '1834': [73.0, 27.0], '1851': [100.0, 0.0], '1897': [80.0, 20.0], '1912': [100.0, 0.0], '1943': [75.0, 25.0], '1946': [61.0, 39.0], '1954': [100.0, 0.0], '1958': [95.0, 5.0], '1980': [75.0, 25.0], '1982': [67.0, 33.0], '2015': [94.0, 6.0], '2031': [74.0, 26.0], '2047': [38.0, 62.0], '2060': [67.0, 33.0], '2063': [100.0, 0.0], '2071': [100.0, 0.0], '2077': [0.0, 100.0], '2092': [100.0, 0.0], '2105': [80.0, 20.0], '2122': [71.0, 29.0], '2176': [34.0, 66.0], '2188': [100.0, 0.0], '2190': [12.0, 88.0], '2195': [67.0, 33.0], '2232': [57.99999999999999, 42.00000000000001], '2242': [67.0, 33.0], '2247': [100.0, 0.0], '2270': [88.0, 12.0], '2272': [100.0, 0.0], '2316': [79.0, 21.0], '2342': [61.0, 39.0], '2362': [100.0, 0.0], '2376': [0.0, 100.0], '2380': [100.0, 0.0], '2395': [61.0, 39.0], '2407': [59.0, 41.0], '2462': [78.0, 22.0], '2489': [100.0, 0.0], '2594': [62.0, 38.0], '2648': [67.0, 33.0], '2688': [100.0, 0.0], '2760': [57.99999999999999, 42.00000000000001], '2781': [38.0, 62.0], '2810': [67.0, 33.0], '2814': [32.0, 68.0], '2824': [50.0, 50.0], '2841': [36.0, 64.0], '2847': [98.0, 2.0], '2859': [50.0, 50.0], '2860': [50.0, 50.0], '2868': [50.0, 50.0], '2872': [100.0, 0.0], '2878': [100.0, 0.0], '2898': [76.0, 24.0], '2910': [100.0, 0.0], '2918': [100.0, 0.0], '2969': [55.00000000000001, 44.99999999999999], '2985': [50.0, 50.0], '3002': [13.0, 87.0], '3012': [87.0, 13.0], '3013': [89.0, 11.0], '3471': [100.0, 0.0], '3473': [100.0, 0.0], '3509': [92.0, 8.0], '3512': [100.0, 0.0], '3518': [100.0, 0.0], '3519': [90.0, 10.0], '3520': [65.0, 35.0], '3531': [60.0, 40.0], '3550': [62.0, 38.0], '3562': [100.0, 0.0], '3590': [44.0, 56.0], '3592': [50.0, 50.0], '3691': [50.0, 50.0], '3693': [82.0, 18.0], '3732': [80.0, 20.0], '3773': [94.0, 6.0], '3824': [100.0, 0.0], '3840': [47.0, 53.0], '3842': [90.0, 10.0], '3953': [0.0, 100.0], '3995': [67.0, 33.0], '4042': [100.0, 0.0], '4058': [75.0, 25.0], '4085': [75.0, 25.0], '4089': [50.0, 50.0], '4126': [90.0, 10.0], '4186': [100.0, 0.0], '4258': [46.0, 54.0], '4277': [61.0, 39.0], '4294': [100.0, 0.0], '4305': [64.0, 36.0], '4312': [71.0, 29.0], '4384': [33.0, 67.0], '4418': [67.0, 33.0], '4448': [67.0, 33.0], '4489': [100.0, 0.0], '4517': [100.0, 0.0], '4543': [69.0, 31.0], '4579': [84.0, 16.0], '4582': [32.0, 68.0], '4591': [94.0, 6.0], '4600': [93.0, 7.0], '4607': [81.0, 19.0], '4634': [0.0, 100.0], '4639': [0.0, 100.0], '4647': [88.0, 12.0], '4697': [26.0, 74.0], '4744': [44.0, 56.0], '4748': [0.0, 100.0], '4763': [100.0, 0.0], '4771': [100.0, 0.0], '4785': [0.0, 100.0], '4802': [44.0, 56.0], '4813': [50.0, 50.0], '4816': [21.0, 79.0], '4829': [75.0, 25.0], '4831': [33.0, 67.0], '4834': [100.0, 0.0], '4842': [33.0, 67.0], '4861': [100.0, 0.0], '4868': [93.0, 7.0], '4934': [100.0, 0.0], '4950': [25.0, 75.0], '4958': [91.0, 9.0], '4960': [27.0, 73.0], '5011': [33.0, 67.0], '5046': [33.0, 67.0], '5054': [100.0, 0.0], '5063': [53.0, 47.0], '5090': [20.0, 80.0], '5100': [33.0, 67.0], '5132': [50.0, 50.0], '5156': [34.0, 66.0], '5172': [93.0, 7.0]}\n"
          ]
        }
      ],
      "source": [
        "import json \n",
        "path = '/content/drive/MyDrive/ML/metrics.json'\n",
        "with open(path, 'r') as openfile:\n",
        "        data= json.load(openfile)\n",
        "# with open('/content/drive/MyDrive/ML/metrics', \"r\") as file: \n",
        "#     data = json.load(file)\n",
        "\n",
        "print(data)"
      ]
    },
    {
      "cell_type": "code",
      "source": [
        "cus = []\n",
        "value = []\n",
        "for key in data:\n",
        "    cus.append(key)\n",
        "    value.append(data[key][1])\n",
        "\n",
        "print(cus)\n",
        "print(value)"
      ],
      "metadata": {
        "colab": {
          "base_uri": "https://localhost:8080/"
        },
        "id": "_Dz9m_zUZSzT",
        "outputId": "1f661944-4d5e-4783-802c-1fa4b24a98ab"
      },
      "execution_count": null,
      "outputs": [
        {
          "output_type": "stream",
          "name": "stdout",
          "text": [
            "['36', '59', '65', '102', '131', '146', '157', '169', '184', '193', '195', '229', '231', '237', '239', '306', '319', '329', '343', '349', '355', '398', '403', '411', '419', '422', '424', '487', '496', '518', '528', '531', '549', '624', '648', '678', '696', '727', '736', '737', '743', '752', '753', '791', '795', '839', '840', '872', '911', '937', '953', '1010', '1015', '1019', '1051', '1063', '1088', '1101', '1113', '1120', '1121', '1125', '1141', '1142', '1164', '1165', '1182', '1186', '1194', '1202', '1203', '1243', '1246', '1252', '1274', '1301', '1303', '1306', '1317', '1329', '1348', '1352', '1389', '1390', '1395', '1415', '1599', '1605', '1645', '1647', '1733', '1739', '1748', '1755', '1776', '1780', '1794', '1812', '1834', '1851', '1897', '1912', '1943', '1946', '1954', '1958', '1980', '1982', '2015', '2031', '2047', '2060', '2063', '2071', '2077', '2092', '2105', '2122', '2176', '2188', '2190', '2195', '2232', '2242', '2247', '2270', '2272', '2316', '2342', '2362', '2376', '2380', '2395', '2407', '2462', '2489', '2594', '2648', '2688', '2760', '2781', '2810', '2814', '2824', '2841', '2847', '2859', '2860', '2868', '2872', '2878', '2898', '2910', '2918', '2969', '2985', '3002', '3012', '3013', '3471', '3473', '3509', '3512', '3518', '3519', '3520', '3531', '3550', '3562', '3590', '3592', '3691', '3693', '3732', '3773', '3824', '3840', '3842', '3953', '3995', '4042', '4058', '4085', '4089', '4126', '4186', '4258', '4277', '4294', '4305', '4312', '4384', '4418', '4448', '4489', '4517', '4543', '4579', '4582', '4591', '4600', '4607', '4634', '4639', '4647', '4697', '4744', '4748', '4763', '4771', '4785', '4802', '4813', '4816', '4829', '4831', '4834', '4842', '4861', '4868', '4934', '4950', '4958', '4960', '5011', '5046', '5054', '5063', '5090', '5100', '5132', '5156', '5172']\n",
            "[31.0, 1.0, 100.0, 15.0, 0.0, 39.0, 56.0, 0.0, 23.0, 26.0, 56.0, 16.0, 44.99999999999999, 33.0, 86.0, 86.0, 25.0, 0.0, 47.0, 5.0, 33.0, 5.0, 100.0, 14.0, 53.0, 7.0, 37.0, 0.0, 86.0, 70.0, 22.0, 0.0, 22.0, 19.0, 50.0, 0.0, 100.0, 20.0, 59.0, 28.0, 20.0, 14.0, 0.0, 0.0, 0.0, 55.0, 50.0, 0.0, 35.0, 43.99999999999999, 67.0, 0.0, 18.0, 7.0, 0.0, 100.0, 28.0, 12.0, 72.0, 32.0, 36.0, 8.0, 50.0, 100.0, 0.0, 19.0, 100.0, 100.0, 18.0, 13.0, 54.0, 40.0, 0.0, 100.0, 43.99999999999999, 0.0, 15.0, 47.0, 33.0, 33.0, 50.0, 7.0, 42.00000000000001, 0.0, 100.0, 50.0, 0.0, 0.0, 73.0, 0.0, 29.0, 80.0, 11.0, 40.0, 0.0, 0.0, 0.0, 0.0, 27.0, 0.0, 20.0, 0.0, 25.0, 39.0, 0.0, 5.0, 25.0, 33.0, 6.0, 26.0, 62.0, 33.0, 0.0, 0.0, 100.0, 0.0, 20.0, 29.0, 66.0, 0.0, 88.0, 33.0, 42.00000000000001, 33.0, 0.0, 12.0, 0.0, 21.0, 39.0, 0.0, 100.0, 0.0, 39.0, 41.0, 22.0, 0.0, 38.0, 33.0, 0.0, 42.00000000000001, 62.0, 33.0, 68.0, 50.0, 64.0, 2.0, 50.0, 50.0, 50.0, 0.0, 0.0, 24.0, 0.0, 0.0, 44.99999999999999, 50.0, 87.0, 13.0, 11.0, 0.0, 0.0, 8.0, 0.0, 0.0, 10.0, 35.0, 40.0, 38.0, 0.0, 56.0, 50.0, 50.0, 18.0, 20.0, 6.0, 0.0, 53.0, 10.0, 100.0, 33.0, 0.0, 25.0, 25.0, 50.0, 10.0, 0.0, 54.0, 39.0, 0.0, 36.0, 29.0, 67.0, 33.0, 33.0, 0.0, 0.0, 31.0, 16.0, 68.0, 6.0, 7.0, 19.0, 100.0, 100.0, 12.0, 74.0, 56.0, 100.0, 0.0, 0.0, 100.0, 56.0, 50.0, 79.0, 25.0, 67.0, 0.0, 67.0, 0.0, 7.0, 0.0, 75.0, 9.0, 73.0, 67.0, 67.0, 0.0, 47.0, 80.0, 67.0, 50.0, 66.0, 7.0]\n"
          ]
        }
      ]
    },
    {
      "cell_type": "markdown",
      "source": [
        "## BUSINESS METRICS PERFORMANCE"
      ],
      "metadata": {
        "id": "R8k2Nqf64XQn"
      }
    },
    {
      "cell_type": "markdown",
      "source": [
        "Business metrics is defined as the percentage of movies that customers watched based on suggestions from the recommendation system. It is the division within the total number of rated-movie that a customer watched in the recommendation list and the total number of movie that a customer have rated\n",
        "\n",
        "![image.png](data:image/png;base64,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)"
      ],
      "metadata": {
        "id": "BrWJl4Jp5q-R"
      }
    },
    {
      "cell_type": "markdown",
      "source": [
        "\n",
        "*   In the test set with 318 customers, the average business metrics is 32.60%.That means for every 100 movies rated by customers, an average of 33 movies are from the recommended list.\n",
        "\n",
        "*   The table below demonstrates the percentage of customer who which are drawn from recommendation list out of 100 movies\n",
        "\n"
      ],
      "metadata": {
        "id": "fX1e2Bca4TU_"
      }
    },
    {
      "cell_type": "markdown",
      "source": [
        "![image.png](data:image/png;base64,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)"
      ],
      "metadata": {
        "id": "M39bPLMU4JeZ"
      }
    },
    {
      "cell_type": "markdown",
      "source": [
        "The first column demonstrates that there is 6.87% of customers equivalently to 22 clients in the test set who have rated movies and all these movies are exactly precise with the list of recommendation. The explanation is similar for other columns"
      ],
      "metadata": {
        "id": "h6R_CfhG6VXG"
      }
    },
    {
      "cell_type": "code",
      "source": [
        "count_100 = 0\n",
        "count_0 = 0\n",
        "count_50 = 0\n",
        "count_80 = 0\n",
        "for i in value :\n",
        "    if i == 100.0:\n",
        "        count_100 +=1\n",
        "    if i == 0.0:\n",
        "        count_0 += 1\n",
        "    if i >=50.0:\n",
        "        count_50+=1\n",
        "    if i >= 80.0:\n",
        "        count_80 += 1\n",
        "\n",
        "print('100% ', count_100/len(value) * 100)\n",
        "print('0%    ', count_0/ len(value) * 100)\n",
        "print('>=50% ', count_50/len(value) * 100)\n",
        "print('>=80% ', count_80/len(value) * 100)"
      ],
      "metadata": {
        "colab": {
          "base_uri": "https://localhost:8080/"
        },
        "id": "mzzrf77Eaghb",
        "outputId": "1c76696d-ba7e-4f8c-d66a-8e0aff3de3f6"
      },
      "execution_count": null,
      "outputs": [
        {
          "output_type": "stream",
          "name": "stdout",
          "text": [
            "100%  6.866952789699571\n",
            "0%     24.463519313304722\n",
            ">=50%  30.042918454935624\n",
            ">=80%  9.871244635193133\n"
          ]
        }
      ]
    },
    {
      "cell_type": "code",
      "source": [
        "import numpy as np\n",
        "np.mean(value)"
      ],
      "metadata": {
        "colab": {
          "base_uri": "https://localhost:8080/"
        },
        "id": "k2zNhmp2amow",
        "outputId": "e901f81b-4af7-4cdf-e5d5-96631aa0dba7"
      },
      "execution_count": null,
      "outputs": [
        {
          "output_type": "execute_result",
          "data": {
            "text/plain": [
              "32.59656652360515"
            ]
          },
          "metadata": {},
          "execution_count": 16
        }
      ]
    },
    {
      "cell_type": "code",
      "source": [],
      "metadata": {
        "id": "pu0DdMhTbVD8"
      },
      "execution_count": null,
      "outputs": []
    }
  ],
  "metadata": {
    "accelerator": "TPU",
    "colab": {
      "machine_shape": "hm",
      "provenance": []
    },
    "kernelspec": {
      "display_name": "Python 3",
      "name": "python3"
    },
    "language_info": {
      "name": "python"
    }
  },
  "nbformat": 4,
  "nbformat_minor": 0
}